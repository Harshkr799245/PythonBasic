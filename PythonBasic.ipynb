{
  "nbformat": 4,
  "nbformat_minor": 0,
  "metadata": {
    "colab": {
      "provenance": []
    },
    "kernelspec": {
      "name": "python3",
      "display_name": "Python 3"
    },
    "language_info": {
      "name": "python"
    }
  },
  "cells": [
    {
      "cell_type": "markdown",
      "source": [
        "# Python Basics Questions\n",
        "\n",
        "1. What is Python, and why is it popular?\n",
        "   - Python is an interpreted, object-oriented, high-level programming language with dynamic semantics. Its high-level built in data structures, combined with dynamic typing and dynamic binding, make it very attractive for Rapid Application Development, as well as for use as a scripting or glue language to connect existing components together.\n",
        "   - Python is popular because\n",
        "     -  Simple syntax\n",
        "     - Easy to learn\n",
        "     - Large libraries\n",
        "     - Used in web development, data science, AI, automation, etc.\n",
        "\n",
        "2. What is an interpreter in Python ?   \n",
        "   - The interpreter reads Python code line by line and converts it into machine code to execute the program.\n",
        "\n",
        "\n",
        "3. What are pre-defined keywords in Python?  \n",
        "   - Special reserved words that have a specific meaning in Python.\n",
        "   - Examples: if, else, while, True, False.\n",
        "\n",
        "\n",
        "4. Can keywords be used as variable names ?\n",
        "  - No, keywords, which are reserved words with specific meanings in a programming language, cannot be used as variable names.\n",
        "  - If we try to use a keyword as a variable name, it would create a conflict because the interpreter would not know whether the word refers to a variable or a keyword with its predefined meaning.\n",
        "\n",
        "5. What is mutability in Python ?\n",
        "  - Mutability in Python refers to the ability of an object to be modified after it is created. If an object is mutable, its state can be changed (i.e., elements can be added, removed, or modified) without creating a new object.\n",
        "  - Common mutable data types in Python include lists, dictionaries, and sets.\n",
        "\n",
        "6. Why are lists mutable, but tuples are immutable ?\n",
        "  - Lists are mutable because their contents can be modified after creation, while tuples are immutable, meaning their contents cannot be changed once created.\n",
        "  -  This difference stems from how they are designed to be used: lists are for dynamic, changeable data, while tuples are for fixed, unchangeable data.\n",
        "\n",
        "\n",
        "7. What is the difference between “==” and “is” operators in Python ?\n",
        "  - The == and is operators in Python serve distinct comparison purposes:\n",
        "  - == (Equality Operator): It checks if the values of two objects are equal. It compares the content or data held by the objects.\n",
        "  - \" is\" (Identity Operator): It checks if two variables refer to the same object in memory. It determines if two references point to the exact same object instance.\n",
        "\n",
        "8. What are logical operators in Python ?\n",
        "\n",
        "   - Logical operators in Python are used to combine or modify boolean values. There are three logical operators: and, or, and not.\n",
        "\n",
        "  - and: Returns True if both operands are True, otherwise returns False.\n",
        "\n",
        "  - or: Returns True if at least one of the operands is True, otherwise returns False.\n",
        "\n",
        "  - not: Returns True if the operand is False, and False if the operand is True.\n",
        "\n",
        "\n",
        "9. What is type casting in Python ?\n",
        "  - Type casting in Python, also known as type conversion, is the process of changing a variable's data type. This is necessary because different data types behave differently and are used for different purposes.\n",
        "\n",
        "10. What is the difference between implicit and explicit type casting ?\n",
        "  - Implicit Type Casting : Python automatically converts one data type to another without any user involvement. For example, when adding an integer and a float, Python implicitly converts the integer to a float before performing the addition.\n",
        "  - Explicit Type Casting: The user manually converts the data type of an object using built-in functions like int(), float(), str(), etc. This is useful when you need to perform operations that are not allowed between different data types or when you need to control the resulting data type.\n",
        "\n",
        "11. What is the purpose of conditional statements in Python ?\n",
        "    - Conditional statements in Python serve to control the flow of execution within a program, allowing different blocks of code to be executed based on whether a specific condition evaluates to true or false. This enables programs to make decisions and respond dynamically to varying inputs or situations.\n",
        "    - Example: if, else, elif.\n",
        "\n",
        "12. How does the elif statement work ?\n",
        "  - The elif statement, short for \"else if,\" in Python allows you to check multiple conditions sequentially, executing the code block associated with the first true condition encountered.\n",
        "  -How it works:\n",
        "  - The if statement's condition is evaluated first.\n",
        "  -If the if condition is false, the code proceeds to the first elif statement.\n",
        "  -The elif condition is then evaluated.\n",
        "  -If the elif condition is true, the corresponding code block is executed, and the rest of the if block is skipped.\n",
        "  -If the elif condition is false, the next elif (if any) is evaluated, and so on.\n",
        "  - If none of the if or elif conditions are true, the else block (if present) is executed.   \n",
        "\n",
        "\n",
        "13. What is the difference between for and while loops ?\n",
        "  - The primary difference between for and while loops lies in their iteration control: for loops are used when the number of iterations is known beforehand, while while loops are used when the number of iterations depends on a condition.  \n",
        "  - for loop:  \n",
        "  Iterates over a sequence (like a list, array, or string) or a range of numbers.  \n",
        "  The number of iterations is typically known in advance.\n",
        "  - while loop:\n",
        "   Repeats a block of code as long as a condition is true.\n",
        "   The number of iterations is not fixed and depends on the condition.\n",
        "\n",
        "14.Describe a scenario where a while loop is more suitable than a for loop.\n",
        "  - Imagine you're writing a program that prompts the user to enter a password until they enter it correctly. You don't know in advance how many attempts the user will make, and the loop should continue until a valid password is entered.\n",
        "\n",
        "while True:\n",
        "\n",
        "    password = input(\"Enter password: \")\n",
        "    \n",
        "    if password == \"my_secret_password\":\n",
        "       \n",
        "        print(\"Password accepted.\")\n",
        "        break  # Exit the loop\n",
        "    else:\n",
        "        print(\"Incorrect password.\")\n",
        "   \n",
        "\n",
        "\n",
        "\n"
      ],
      "metadata": {
        "id": "8I7fxWXWfZVL"
      }
    },
    {
      "cell_type": "markdown",
      "source": [
        "# Practical Questions"
      ],
      "metadata": {
        "id": "pKsRAhFzsIRE"
      }
    },
    {
      "cell_type": "markdown",
      "source": [
        "1. Write a Python program to print \"Hello, World!\"."
      ],
      "metadata": {
        "id": "KT13tNg_sobr"
      }
    },
    {
      "cell_type": "code",
      "source": [
        "print(\"Hello, World!\")\n"
      ],
      "metadata": {
        "colab": {
          "base_uri": "https://localhost:8080/"
        },
        "id": "IXclxxudtAl2",
        "outputId": "c639bc86-a132-42a3-8ceb-29be5cd9c97d"
      },
      "execution_count": 1,
      "outputs": [
        {
          "output_type": "stream",
          "name": "stdout",
          "text": [
            "Hello, World!\n"
          ]
        }
      ]
    },
    {
      "cell_type": "markdown",
      "source": [
        "2.Write a Python program that displays your name and age."
      ],
      "metadata": {
        "id": "jeLtnusJtIeY"
      }
    },
    {
      "cell_type": "code",
      "source": [
        "name = \"Harsh\"\n",
        "age = 25\n",
        "print(\"Name:\", name)\n",
        "print(\"Age:\", age)"
      ],
      "metadata": {
        "colab": {
          "base_uri": "https://localhost:8080/"
        },
        "id": "Ns6JvXrZtNk2",
        "outputId": "9cdb3391-620e-4e5f-b580-47f178756c7e"
      },
      "execution_count": 2,
      "outputs": [
        {
          "output_type": "stream",
          "name": "stdout",
          "text": [
            "Name: Harsh\n",
            "Age: 25\n"
          ]
        }
      ]
    },
    {
      "cell_type": "markdown",
      "source": [
        "3.  Write code to print all the pre-defined keywords in Python using the keyword library."
      ],
      "metadata": {
        "id": "cbMtfJebtUY8"
      }
    },
    {
      "cell_type": "code",
      "source": [
        "help('keywords')"
      ],
      "metadata": {
        "colab": {
          "base_uri": "https://localhost:8080/"
        },
        "id": "YL5wpcrYtdRz",
        "outputId": "9f4a7422-a83c-4515-d19b-9cf2714eea29"
      },
      "execution_count": 5,
      "outputs": [
        {
          "output_type": "stream",
          "name": "stdout",
          "text": [
            "\n",
            "Here is a list of the Python keywords.  Enter any keyword to get more help.\n",
            "\n",
            "False               class               from                or\n",
            "None                continue            global              pass\n",
            "True                def                 if                  raise\n",
            "and                 del                 import              return\n",
            "as                  elif                in                  try\n",
            "assert              else                is                  while\n",
            "async               except              lambda              with\n",
            "await               finally             nonlocal            yield\n",
            "break               for                 not                 \n",
            "\n"
          ]
        }
      ]
    },
    {
      "cell_type": "code",
      "source": [
        "#or\n",
        "import keyword\n",
        "print(keyword.kwlist)"
      ],
      "metadata": {
        "colab": {
          "base_uri": "https://localhost:8080/"
        },
        "id": "dImLaCP3uUqv",
        "outputId": "deabae7a-48fb-4760-e436-9844f8d1231c"
      },
      "execution_count": 6,
      "outputs": [
        {
          "output_type": "stream",
          "name": "stdout",
          "text": [
            "['False', 'None', 'True', 'and', 'as', 'assert', 'async', 'await', 'break', 'class', 'continue', 'def', 'del', 'elif', 'else', 'except', 'finally', 'for', 'from', 'global', 'if', 'import', 'in', 'is', 'lambda', 'nonlocal', 'not', 'or', 'pass', 'raise', 'return', 'try', 'while', 'with', 'yield']\n"
          ]
        }
      ]
    },
    {
      "cell_type": "markdown",
      "source": [
        "4. Write a program that checks if a given word is a Python keyword."
      ],
      "metadata": {
        "id": "9_Ut864pt6y6"
      }
    },
    {
      "cell_type": "code",
      "source": [
        "import keyword\n",
        "word = input(\"Enter a word: \")\n",
        "if keyword.iskeyword(word):\n",
        "    print(f\"{word} is a Python keyword.\")\n",
        "else:\n",
        "    print(f\"{word} is not a Python keyword.\")\n"
      ],
      "metadata": {
        "colab": {
          "base_uri": "https://localhost:8080/"
        },
        "id": "hwKsOJf2unGA",
        "outputId": "e5bf7687-65c3-496e-e162-857f76304cfa"
      },
      "execution_count": 7,
      "outputs": [
        {
          "output_type": "stream",
          "name": "stdout",
          "text": [
            "Enter a word: None\n",
            "None is a Python keyword.\n"
          ]
        }
      ]
    },
    {
      "cell_type": "markdown",
      "source": [
        "5.  Create a list and tuple in Python, and demonstrate how attempting to change an element works differently\n",
        "for each."
      ],
      "metadata": {
        "id": "wTdfskOZusiR"
      }
    },
    {
      "cell_type": "code",
      "source": [
        "# Creating a list\n",
        "my_list = [1, 2, 3]\n",
        "print(\"Original list:\", my_list)\n",
        "\n",
        "# Modifying the list\n",
        "my_list[0] = 10\n",
        "print(\"Modified list:\", my_list)\n"
      ],
      "metadata": {
        "colab": {
          "base_uri": "https://localhost:8080/"
        },
        "id": "jUs68cE4u6rY",
        "outputId": "bc73e117-1793-49f4-b007-cffa16cdb378"
      },
      "execution_count": 8,
      "outputs": [
        {
          "output_type": "stream",
          "name": "stdout",
          "text": [
            "Original list: [1, 2, 3]\n",
            "Modified list: [10, 2, 3]\n"
          ]
        }
      ]
    },
    {
      "cell_type": "code",
      "source": [
        "# Creating a tuple\n",
        "my_tuple = (1, 2, 3)\n",
        "print(\"Original tuple:\", my_tuple)\n",
        "\n",
        "# Trying to modify the tuple\n",
        "# This will cause an error\n",
        "\n",
        "# my_tuple[0] = 10  (type error)"
      ],
      "metadata": {
        "colab": {
          "base_uri": "https://localhost:8080/"
        },
        "id": "pTqvVEyqwJd5",
        "outputId": "07a88aad-f63b-4ab2-f6ac-9d81000e0ac5"
      },
      "execution_count": 11,
      "outputs": [
        {
          "output_type": "stream",
          "name": "stdout",
          "text": [
            "Original tuple: (1, 2, 3)\n"
          ]
        }
      ]
    },
    {
      "cell_type": "markdown",
      "source": [
        "6. Write a function to demonstrate the behavior of mutable and immutable arguments\n",
        "\n"
      ],
      "metadata": {
        "id": "lb4KhtouwT-n"
      }
    },
    {
      "cell_type": "code",
      "source": [
        "def modify_list(my_list):\n",
        "    my_list.append(4)  # mutable\n",
        "\n",
        "def modify_number(num):\n",
        "    num += 1  # immutable\n",
        "\n",
        "lst = [1, 2, 3]\n",
        "number = 5\n",
        "\n",
        "modify_list(lst)\n",
        "modify_number(number)\n",
        "\n",
        "print(\"List after function:\", lst)      # [1, 2, 3, 4]\n",
        "print(\"Number after function:\", number) # 5\n"
      ],
      "metadata": {
        "id": "8svaXeDcwiZQ"
      },
      "execution_count": null,
      "outputs": []
    },
    {
      "cell_type": "markdown",
      "source": [
        "7.  Write a program that performs basic arithmetic operations on two user-input numbers.\n",
        "\n"
      ],
      "metadata": {
        "id": "o93aJcC6wy4O"
      }
    },
    {
      "cell_type": "code",
      "source": [
        "a = float(input(\"Enter first number: \"))\n",
        "b = float(input(\"Enter second number: \"))\n",
        "\n",
        "print(\"Sum:\", a + b)\n",
        "print(\"Difference:\", a - b)\n",
        "print(\"Product:\", a * b)\n",
        "print(\"Quotient:\", a / b)\n"
      ],
      "metadata": {
        "id": "_lAeqM13w312"
      },
      "execution_count": null,
      "outputs": []
    },
    {
      "cell_type": "markdown",
      "source": [
        "8. Write a program to demonstrate the use of logical operators."
      ],
      "metadata": {
        "id": "YJGKJ_bkxAIw"
      }
    },
    {
      "cell_type": "code",
      "source": [
        "a = True\n",
        "b = False\n",
        "\n",
        "print(\"AND:\", a and b)\n",
        "print(\"OR:\", a or b)\n",
        "print(\"NOT a:\", not a)"
      ],
      "metadata": {
        "id": "PlFHbAnoxJzm"
      },
      "execution_count": null,
      "outputs": []
    },
    {
      "cell_type": "markdown",
      "source": [
        "9.  Write a Python program to convert user input from string to integer, float, and boolean types."
      ],
      "metadata": {
        "id": "ea8vREGRxVcv"
      }
    },
    {
      "cell_type": "code",
      "source": [
        "value = input(\"Enter something: \")\n",
        "\n",
        "print(\"As int:\", int(value))\n",
        "print(\"As float:\", float(value))\n",
        "print(\"As bool:\", bool(value))"
      ],
      "metadata": {
        "id": "vPiWFdfoxZY5"
      },
      "execution_count": null,
      "outputs": []
    },
    {
      "cell_type": "markdown",
      "source": [
        "10. Write code to demonstrate type casting with list elements."
      ],
      "metadata": {
        "id": "kxax-2vCx_or"
      }
    },
    {
      "cell_type": "code",
      "source": [
        "str_list = [\"1\", \"2\", \"3\"]\n",
        "int_list = [int(x) for x in str_list]\n",
        "print(\"Converted:\", int_list)\n"
      ],
      "metadata": {
        "colab": {
          "base_uri": "https://localhost:8080/"
        },
        "id": "ReODhtlzyDw1",
        "outputId": "291d60d7-a1a7-4bc1-e088-39fb39c9e66f"
      },
      "execution_count": 12,
      "outputs": [
        {
          "output_type": "stream",
          "name": "stdout",
          "text": [
            "Converted: [1, 2, 3]\n"
          ]
        }
      ]
    },
    {
      "cell_type": "markdown",
      "source": [
        "11.  Write a program that checks if a number is positive, negative, or zero."
      ],
      "metadata": {
        "id": "KhzAkvCOyLNx"
      }
    },
    {
      "cell_type": "code",
      "source": [
        "num = float(input(\"Enter a number: \"))\n",
        "\n",
        "if num > 0:\n",
        "    print(\"Positive\")\n",
        "elif num < 0:\n",
        "    print(\"Negative\")\n",
        "else:\n",
        "    print(\"Zero\")\n"
      ],
      "metadata": {
        "colab": {
          "base_uri": "https://localhost:8080/"
        },
        "id": "U0nLGQbEyTtI",
        "outputId": "3c82fdbc-6ea4-419b-8b6b-b5621c09ed17"
      },
      "execution_count": 13,
      "outputs": [
        {
          "output_type": "stream",
          "name": "stdout",
          "text": [
            "Enter a number: 10\n",
            "Positive\n"
          ]
        }
      ]
    },
    {
      "cell_type": "markdown",
      "source": [
        "12. Write a for loop to print numbers from 1 to 10."
      ],
      "metadata": {
        "id": "mSME0IMFyXY9"
      }
    },
    {
      "cell_type": "code",
      "source": [
        "for i in range(1, 11):\n",
        "    print(i)\n"
      ],
      "metadata": {
        "colab": {
          "base_uri": "https://localhost:8080/"
        },
        "id": "a3lI0HOLyim_",
        "outputId": "e3f574fd-9364-45d2-db0f-14a1fa677be8"
      },
      "execution_count": 14,
      "outputs": [
        {
          "output_type": "stream",
          "name": "stdout",
          "text": [
            "1\n",
            "2\n",
            "3\n",
            "4\n",
            "5\n",
            "6\n",
            "7\n",
            "8\n",
            "9\n",
            "10\n"
          ]
        }
      ]
    },
    {
      "cell_type": "markdown",
      "source": [
        "13. Write a Python program to find the sum of all even numbers between 1 and 50."
      ],
      "metadata": {
        "id": "IJgBHurRymCy"
      }
    },
    {
      "cell_type": "code",
      "source": [
        "total = 0\n",
        "for i in range(2, 51, 2):\n",
        "    total += i\n",
        "print(\"Sum:\", total)\n"
      ],
      "metadata": {
        "colab": {
          "base_uri": "https://localhost:8080/"
        },
        "id": "0Rin3vc5ys1w",
        "outputId": "7c666d29-d32c-450f-fc9c-1df7e7c6649f"
      },
      "execution_count": 15,
      "outputs": [
        {
          "output_type": "stream",
          "name": "stdout",
          "text": [
            "Sum: 650\n"
          ]
        }
      ]
    },
    {
      "cell_type": "markdown",
      "source": [
        "14. Write a program to reverse a string using a while loop."
      ],
      "metadata": {
        "id": "Z8cmPUMoyygv"
      }
    },
    {
      "cell_type": "code",
      "source": [
        "text = input(\"Enter a string: \")\n",
        "reversed_text = \"\"\n",
        "i = len(text) - 1\n",
        "\n",
        "while i >= 0:\n",
        "    reversed_text += text[i]\n",
        "    i -= 1\n",
        "\n",
        "print(\"Reversed:\", reversed_text)\n"
      ],
      "metadata": {
        "colab": {
          "base_uri": "https://localhost:8080/"
        },
        "id": "JNqSVe7yy7R3",
        "outputId": "9997d93e-3277-4b4a-cf33-c83556088774"
      },
      "execution_count": 16,
      "outputs": [
        {
          "output_type": "stream",
          "name": "stdout",
          "text": [
            "Enter a string: harsh\n",
            "Reversed: hsrah\n"
          ]
        }
      ]
    },
    {
      "cell_type": "markdown",
      "source": [
        "15.  Write a Python program to calculate the factorial of a number provided by the user using a while loop."
      ],
      "metadata": {
        "id": "4UG81C3CzBe9"
      }
    },
    {
      "cell_type": "code",
      "source": [
        "n = int(input(\"Enter a number: \"))\n",
        "result = 1\n",
        "\n",
        "while n > 0:\n",
        "    result *= n\n",
        "    n -= 1\n",
        "\n",
        "print(\"Factorial:\", result)\n"
      ],
      "metadata": {
        "colab": {
          "base_uri": "https://localhost:8080/"
        },
        "id": "gf4BauY5zLNR",
        "outputId": "012c56d7-134e-49f5-8017-78b9991a9fc0"
      },
      "execution_count": 18,
      "outputs": [
        {
          "output_type": "stream",
          "name": "stdout",
          "text": [
            "Enter a number: 5\n",
            "Factorial: 120\n"
          ]
        }
      ]
    },
    {
      "cell_type": "code",
      "source": [],
      "metadata": {
        "id": "3Nc2jyKazQMV"
      },
      "execution_count": null,
      "outputs": []
    }
  ]
}